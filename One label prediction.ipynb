{
 "cells": [
  {
   "cell_type": "code",
   "execution_count": 1,
   "id": "fc9b70ca-22cb-4481-9040-bdf102415d23",
   "metadata": {},
   "outputs": [],
   "source": [
    "import os\n",
    "import pandas as pd\n",
    "import numpy as np\n",
    "from sklearn.model_selection import train_test_split\n",
    "from sklearn.preprocessing import StandardScaler\n",
    "import torch\n",
    "import torch.nn as nn\n",
    "from torch.utils.data import TensorDataset, DataLoader\n",
    "import time\n",
    "from multiprocessing import Pool\n",
    "import random"
   ]
  },
  {
   "cell_type": "code",
   "execution_count": 2,
   "id": "97dc09e0-49d6-4f17-b47d-f5cc7d1e7bb2",
   "metadata": {},
   "outputs": [],
   "source": [
    "def process_window(args):\n",
    "    i, features_values, labels_values, WINDOW_SIZE, label_index = args\n",
    "    window_features = features_values[i:i+WINDOW_SIZE]\n",
    "    label_value = labels_values[i + WINDOW_SIZE + [5, 10, 20, 40, 60][label_index] - 1, label_index]\n",
    "    return (window_features, label_value)\n",
    "\n",
    "def process_single_file(file_path, label_index=0):\n",
    "    data = pd.read_csv(file_path)\n",
    "    data = data.sort_values('time')\n",
    "    \n",
    "    WINDOW_SIZE = 100\n",
    "    PREDICTION_STEPS = [5, 10, 20, 40, 60]\n",
    "    \n",
    "    data['time'] = data['time'].astype('datetime64[ns]').dt.hour\n",
    "    features = data.drop(columns=['date','label_5', 'label_10', 'label_20', 'label_40', 'label_60'])\n",
    "    labels = data[['label_5', 'label_10', 'label_20', 'label_40', 'label_60']]\n",
    "    \n",
    "    scaler = StandardScaler()\n",
    "    features = pd.DataFrame(scaler.fit_transform(features), columns=features.columns)\n",
    "    \n",
    "    total_samples = len(data) - WINDOW_SIZE - PREDICTION_STEPS[label_index]\n",
    "    \n",
    "    features_values = features.values\n",
    "    labels_values = labels.values\n",
    "    \n",
    "    args_list = [(i, features_values, labels_values, WINDOW_SIZE, label_index) for i in range(total_samples)]\n",
    "    \n",
    "    with Pool() as p:\n",
    "        results = p.map(process_window, args_list)\n",
    "    X, y = zip(*results)\n",
    "    \n",
    "    X = np.array(X)\n",
    "    y = np.array(y)\n",
    "    \n",
    "    return train_test_split(X, y, test_size=0.3, shuffle=False, random_state=42)\n",
    "\n",
    "def process_folder(folder_path, label_index=0, sample_size=None, random_seed=42):\n",
    "    all_X_train = []\n",
    "    all_y_train = []\n",
    "    all_X_test = []\n",
    "    all_y_test = []\n",
    "    \n",
    "    csv_files = [f for f in os.listdir(folder_path) if f.endswith('.csv')]\n",
    "    \n",
    "    random.seed(random_seed)\n",
    "    if sample_size is not None and sample_size < len(csv_files):\n",
    "        csv_files = random.sample(csv_files, sample_size)\n",
    "    \n",
    "    print(f\"Processing {len(csv_files)} files: {csv_files}\")\n",
    "    \n",
    "    for file_name in csv_files:\n",
    "        file_path = os.path.join(folder_path, file_name)\n",
    "        X_train, X_test, y_train, y_test = process_single_file(file_path, label_index)\n",
    "        \n",
    "        all_X_train.append(X_train)\n",
    "        all_y_train.append(y_train)\n",
    "        all_X_test.append(X_test)\n",
    "        all_y_test.append(y_test)\n",
    "    \n",
    "    final_X_train = np.concatenate(all_X_train, axis=0)\n",
    "    final_y_train = np.concatenate(all_y_train, axis=0)\n",
    "    final_X_test = np.concatenate(all_X_test, axis=0)\n",
    "    final_y_test = np.concatenate(all_y_test, axis=0)\n",
    "    \n",
    "    return final_X_train, final_X_test, final_y_train, final_y_test"
   ]
  },
  {
   "cell_type": "code",
   "execution_count": null,
   "id": "feb4abb1-7a2e-47f4-869a-b2e4e22414b4",
   "metadata": {},
   "outputs": [
    {
     "name": "stdout",
     "output_type": "stream",
     "text": [
      "Processing 50 files: ['snapshot_sym4_date58_pm.csv', 'snapshot_sym3_date30_pm.csv', 'snapshot_sym2_date50_am.csv', 'snapshot_sym2_date29_am.csv', 'snapshot_sym4_date16_am.csv', 'snapshot_sym0_date93_pm.csv', 'snapshot_sym3_date28_am.csv', 'snapshot_sym4_date42_am.csv', 'snapshot_sym1_date51_am.csv', 'snapshot_sym0_date44_pm.csv', 'snapshot_sym0_date96_pm.csv', 'snapshot_sym0_date76_am.csv', 'snapshot_sym3_date10_pm.csv', 'snapshot_sym1_date65_pm.csv', 'snapshot_sym3_date53_am.csv', 'snapshot_sym3_date97_pm.csv', 'snapshot_sym0_date20_pm.csv', 'snapshot_sym1_date9_pm.csv', 'snapshot_sym0_date54_pm.csv', 'snapshot_sym2_date98_am.csv', 'snapshot_sym3_date31_pm.csv', 'snapshot_sym0_date70_am.csv', 'snapshot_sym2_date45_am.csv', 'snapshot_sym3_date17_pm.csv', 'snapshot_sym4_date10_pm.csv', 'snapshot_sym3_date64_pm.csv', 'snapshot_sym0_date10_am.csv', 'snapshot_sym4_date18_am.csv', 'snapshot_sym0_date16_am.csv', 'snapshot_sym4_date16_pm.csv', 'snapshot_sym1_date44_am.csv', 'snapshot_sym0_date64_am.csv', 'snapshot_sym1_date101_am.csv', 'snapshot_sym0_date1_pm.csv', 'snapshot_sym4_date65_pm.csv', 'snapshot_sym1_date11_am.csv', 'snapshot_sym3_date14_pm.csv', 'snapshot_sym3_date80_am.csv', 'snapshot_sym2_date16_pm.csv', 'snapshot_sym2_date5_pm.csv', 'snapshot_sym3_date29_pm.csv', 'snapshot_sym3_date47_am.csv', 'snapshot_sym0_date90_pm.csv', 'snapshot_sym2_date71_pm.csv', 'snapshot_sym1_date35_am.csv', 'snapshot_sym3_date39_am.csv', 'snapshot_sym2_date67_pm.csv', 'snapshot_sym2_date88_am.csv', 'snapshot_sym1_date56_pm.csv', 'snapshot_sym1_date95_pm.csv']\n"
     ]
    }
   ],
   "source": [
    "label_index = 0 \n",
    "folder_path = 'train_set'\n",
    "sample_size = 50\n",
    "\n",
    "X_train, X_test, y_train, y_test = process_folder(\n",
    "    folder_path, \n",
    "    label_index=label_index, \n",
    "    sample_size=sample_size\n",
    ")\n",
    "\n",
    "print(f\"X_train shape: {X_train.shape}, y_train shape: {y_train.shape}\")\n",
    "print(f\"X_test shape: {X_test.shape}, y_test shape: {y_test.shape}\")"
   ]
  },
  {
   "cell_type": "code",
   "execution_count": null,
   "id": "2acc21d7-c895-4c1e-95c0-9bdd4f1ad932",
   "metadata": {},
   "outputs": [],
   "source": [
    "class LSTM(nn.Module):\n",
    "    def __init__(self, input_dim, hidden_dim, num_layers, dropout = 0.3):\n",
    "        super().__init__()\n",
    "        self.lstm = nn.LSTM(\n",
    "            input_dim, hidden_dim, num_layers,\n",
    "            batch_first=True, bidirectional=True\n",
    "        )\n",
    "        self.dropout = nn.Dropout(dropout)\n",
    "        self.attention = nn.Sequential( \n",
    "            nn.Linear(hidden_dim*2, 1),\n",
    "            nn.Softmax(dim=1)\n",
    "        )\n",
    "        self.fc = nn.Linear(hidden_dim*2, num_classes)\n",
    "    \n",
    "    def forward(self, x):\n",
    "        lstm_out, _ = self.lstm(x) \n",
    "        \n",
    "        attn_weights = self.attention(lstm_out)\n",
    "        context = torch.sum(attn_weights * lstm_out, dim=1)\n",
    "        \n",
    "        out = self.dropout(context)\n",
    "        return self.fc(out)"
   ]
  },
  {
   "cell_type": "code",
   "execution_count": null,
   "id": "f2a11eda-b309-4d65-9cf6-590c18c0639b",
   "metadata": {},
   "outputs": [],
   "source": [
    "device = torch.device('cuda:1' if torch.cuda.is_available() else 'cpu')\n",
    "print(f\"Using device: {device}\")\n",
    " \n",
    "\n",
    "X_train_tensor = torch.from_numpy(X_train).float().to(device)\n",
    "y_train_tensor = torch.from_numpy(y_train).long().to(device)\n",
    "X_test_tensor = torch.from_numpy(X_test).float().to(device)\n",
    "y_test_tensor = torch.from_numpy(y_test).long().to(device)\n",
    "\n",
    "batch_size = 256\n",
    "train_dataset = TensorDataset(X_train_tensor, y_train_tensor)\n",
    "train_loader = DataLoader(train_dataset, batch_size=batch_size, shuffle=True)"
   ]
  },
  {
   "cell_type": "code",
   "execution_count": null,
   "id": "ec263a3d-ae44-47cf-ac72-f6d084951531",
   "metadata": {},
   "outputs": [],
   "source": [
    "input_dim = 28\n",
    "hidden_dim = 16\n",
    "num_layers = 2\n",
    "num_epochs = 100\n",
    "num_classes = 3\n",
    "\n",
    "model = LSTM(input_dim, hidden_dim, num_layers).to(device)\n",
    "criterion = nn.CrossEntropyLoss()\n",
    "optimiser = torch.optim.RAdam(model.parameters(), lr=0.001)\n",
    "\n",
    "print(model)"
   ]
  },
  {
   "cell_type": "code",
   "execution_count": null,
   "id": "94ce5f96-ae4a-4af0-bfbc-5d267170d2e0",
   "metadata": {},
   "outputs": [],
   "source": [
    "# [7] 训练模型\n",
    "hist = np.zeros(num_epochs)\n",
    "start_time = time.time()\n",
    "\n",
    "for epoch in range(num_epochs):\n",
    "    model.train()\n",
    "    total_loss = 0\n",
    "    \n",
    "    for batch_x, batch_y in train_loader:\n",
    "        optimiser.zero_grad()\n",
    "        outputs = model(batch_x)\n",
    "        loss = criterion(outputs, batch_y)\n",
    "        loss.backward()\n",
    "        optimiser.step()\n",
    "        \n",
    "        total_loss += loss.item()\n",
    "    \n",
    "    avg_loss = total_loss / len(train_loader)\n",
    "    hist[epoch] = avg_loss\n",
    "    print(f\"Epoch {epoch}, Avg Loss: {avg_loss}\")\n",
    "\n",
    "training_time = time.time() - start_time\n",
    "print(f\"Training completed in {training_time:.2f} seconds\")"
   ]
  },
  {
   "cell_type": "code",
   "execution_count": null,
   "id": "512a435a-b0d5-4aec-aea1-5d2d904621a7",
   "metadata": {},
   "outputs": [],
   "source": [
    "model.eval()\n",
    "with torch.no_grad():\n",
    "    outputs = model(X_test_tensor)\n",
    "    _, predicted = torch.max(outputs.data, 1)\n",
    "    accuracy = (predicted == y_test_tensor).sum().item() / y_test_tensor.size(0)\n",
    "    print(f\"Test Accuracy: {accuracy:.4f}\")"
   ]
  },
  {
   "cell_type": "code",
   "execution_count": null,
   "id": "4f437d74-8b0f-4c12-a9fa-0c313fa8a1da",
   "metadata": {},
   "outputs": [],
   "source": [
    "torch.save(model.state_dict(), f\"lstm_model_label_{[5,10,20,40,60][label_index]}.pth\")\n",
    "print(f\"Model saved as lstm_model_label_{[5,10,20,40,60][label_index]}.pth\")"
   ]
  }
 ],
 "metadata": {
  "kernelspec": {
   "display_name": "Python 3 (ipykernel)",
   "language": "python",
   "name": "python3"
  },
  "language_info": {
   "codemirror_mode": {
    "name": "ipython",
    "version": 3
   },
   "file_extension": ".py",
   "mimetype": "text/x-python",
   "name": "python",
   "nbconvert_exporter": "python",
   "pygments_lexer": "ipython3",
   "version": "3.12.4"
  }
 },
 "nbformat": 4,
 "nbformat_minor": 5
}
